{
 "cells": [
  {
   "cell_type": "code",
   "execution_count": null,
   "metadata": {},
   "outputs": [],
   "source": [
    "// 3.3.1\n",
    "use actix_web::{web, App, HttpRequest, HttpServer, Responder};\n",
    "\n",
    "async fn greet(req: HttpRequest) -> impl Responder {\n",
    "    let name = req.match_info().get(\"name\").unwrap_or(\"World\");\n",
    "    format!(\"Hello {}!\", &name)\n",
    "}\n",
    "\n",
    "#[tokio::main]\n",
    "async fn main() -> std::io::Result<()> {\n",
    "    HttpServer::new(|| {\n",
    "        App::new()\n",
    "            .route(\"/\", web::get().to(greet))\n",
    "            .route(\"/{name}\", web::get().to(greet))\n",
    "    })\n",
    "    .bind(\"127.0.0.1:8000\")?\n",
    "    .run()\n",
    "    .await\n",
    "}"
   ]
  },
  {
   "cell_type": "markdown",
   "metadata": {},
   "source": [
    "```shell\n",
    "rustup toolchain install nightly --allow-downgrade\n",
    "cargo +nightly expand\n",
    "```"
   ]
  },
  {
   "cell_type": "code",
   "execution_count": null,
   "metadata": {},
   "outputs": [],
   "source": [
    "// 3.3.2\n",
    "#![feature(prelude_import)]\n",
    "#[prelude_import]\n",
    "use std::prelude::rust_2021::*;\n",
    "#[macro_use]\n",
    "extern crate std;\n",
    "use actix_web::{web, App, HttpRequest, HttpServer, Responder};\n",
    "async fn greet(req: HttpRequest) -> impl Responder {\n",
    "    let name = req.match_info().get(\"name\").unwrap_or(\"World\");\n",
    "    {\n",
    "        let res = ::alloc::fmt::format(::core::fmt::Arguments::new_v1(\n",
    "            &[\"Hello \", \"!\"],\n",
    "            &[::core::fmt::ArgumentV1::new_display(&&name)],\n",
    "        ));\n",
    "        res\n",
    "    }\n",
    "}\n",
    "fn main() -> std::io::Result<()> {\n",
    "    let body = async {\n",
    "        HttpServer::new(|| {\n",
    "            App::new()\n",
    "                .route(\"/\", web::get().to(greet))\n",
    "                .route(\"/{name}\", web::get().to(greet))\n",
    "        })\n",
    "        .bind(\"127.0.0.1:8000\")?\n",
    "        .run()\n",
    "        .await\n",
    "    };\n",
    "    #[allow(clippy::expect_used)]\n",
    "    tokio::runtime::Builder::new_multi_thread()\n",
    "        .enable_all()\n",
    "        .build()\n",
    "        .expect(\"Failed building the Runtime\")\n",
    "        .block_on(body)\n",
    "}"
   ]
  }
 ],
 "metadata": {
  "kernelspec": {
   "display_name": "Rust",
   "language": "rust",
   "name": "rust"
  },
  "language_info": {
   "name": "rust"
  },
  "orig_nbformat": 4
 },
 "nbformat": 4,
 "nbformat_minor": 2
}
