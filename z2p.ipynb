{
 "cells": [
  {
   "cell_type": "code",
   "execution_count": null,
   "metadata": {},
   "outputs": [],
   "source": [
    "// 3.3.1\n",
    "use actix_web::{web, App, HttpRequest, HttpServer, Responder};\n",
    "\n",
    "async fn greet(req: HttpRequest) -> impl Responder {\n",
    "    let name = req.match_info().get(\"name\").unwrap_or(\"World\");\n",
    "    format!(\"Hello {}!\", &name)\n",
    "}\n",
    "\n",
    "#[tokio::main]\n",
    "async fn main() -> std::io::Result<()> {\n",
    "    HttpServer::new(|| {\n",
    "        App::new()\n",
    "            .route(\"/\", web::get().to(greet))\n",
    "            .route(\"/{name}\", web::get().to(greet))\n",
    "    })\n",
    "    .bind(\"127.0.0.1:8000\")?\n",
    "    .run()\n",
    "    .await\n",
    "}"
   ]
  },
  {
   "cell_type": "markdown",
   "metadata": {},
   "source": [
    "## expand macro\n",
    "\n",
    "```shell\n",
    "rustup toolchain install nightly --allow-downgrade\n",
    "cargo +nightly expand\n",
    "```"
   ]
  },
  {
   "cell_type": "code",
   "execution_count": 2,
   "metadata": {},
   "outputs": [
    {
     "ename": "Error",
     "evalue": "Failed to read Cargo metadata from Cargo.toml file /tmp/.tmpHUf9YX/Cargo.toml, cargo 1.59.0 (49d8809dc 2022-02-10)",
     "output_type": "error",
     "traceback": [
      "Failed to read Cargo metadata from Cargo.toml file /tmp/.tmpHUf9YX/Cargo.toml, cargo 1.59.0 (49d8809dc 2022-02-10)"
     ]
    }
   ],
   "source": [
    "// 3.3.2\n",
    "#![feature(prelude_import)]\n",
    "#[prelude_import]\n",
    "use std::prelude::rust_2021::*;\n",
    "#[macro_use]\n",
    "extern crate std;\n",
    "use actix_web::{web, App, HttpRequest, HttpServer, Responder};\n",
    "async fn greet(req: HttpRequest) -> impl Responder {\n",
    "    let name = req.match_info().get(\"name\").unwrap_or(\"World\");\n",
    "    {\n",
    "        let res = ::alloc::fmt::format(::core::fmt::Arguments::new_v1(\n",
    "            &[\"Hello \", \"!\"],\n",
    "            &[::core::fmt::ArgumentV1::new_display(&&name)],\n",
    "        ));\n",
    "        res\n",
    "    }\n",
    "}\n",
    "fn main() -> std::io::Result<()> {\n",
    "    let body = async {\n",
    "        HttpServer::new(|| {\n",
    "            App::new()\n",
    "                .route(\"/\", web::get().to(greet))\n",
    "                .route(\"/{name}\", web::get().to(greet))\n",
    "        })\n",
    "        .bind(\"127.0.0.1:8000\")?\n",
    "        .run()\n",
    "        .await\n",
    "    };\n",
    "    #[allow(clippy::expect_used)]\n",
    "    tokio::runtime::Builder::new_multi_thread()\n",
    "        .enable_all()\n",
    "        .build()\n",
    "        .expect(\"Failed building the Runtime\")\n",
    "        .block_on(body)\n",
    "}"
   ]
  },
  {
   "cell_type": "markdown",
   "metadata": {},
   "source": [
    "## 3.6 Reforcus\n",
    "\n",
    "```txt\n",
    "As a blog visitor,\n",
    "Iwanto to subscribe to the news letter,\n",
    "So that I can receive email updates when new content is published on the blog.\n",
    "```\n",
    "\n",
    "- POST /subscriptions"
   ]
  },
  {
   "cell_type": "markdown",
   "metadata": {},
   "source": [
    "## 3.9.2 actix-web Workers\n",
    "\n",
    "- HttpServer::new takes closure that returns on App struct\n",
    "  - actix-web will spin up a worker process for each available core on your machine\n",
    "- web::Data wraps Arc\n",
    "  - PgConnection does not implement Clone\n",
    "  - Arc<T> is always clonable, Arc increments the number of active references and hands over a new copy of memory address of the wrapped value"
   ]
  },
  {
   "cell_type": "markdown",
   "metadata": {},
   "source": [
    "## 9.1 Naive Newsletter Delivery\n",
    "\n",
    "```txt\n",
    "As the blog author,\n",
    "I want to send an email to all my confirmed subscribers,\n",
    "So that I can notify them when new content is published.\n",
    "```"
   ]
  }
 ],
 "metadata": {
  "kernelspec": {
   "display_name": "Rust",
   "language": "rust",
   "name": "rust"
  },
  "language_info": {
   "codemirror_mode": "rust",
   "file_extension": ".rs",
   "mimetype": "text/rust",
   "name": "rust",
   "pygment_lexer": "rust",
   "version": ""
  },
  "orig_nbformat": 4
 },
 "nbformat": 4,
 "nbformat_minor": 2
}
